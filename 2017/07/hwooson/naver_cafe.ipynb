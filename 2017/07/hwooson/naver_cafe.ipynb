{
 "cells": [
  {
   "cell_type": "code",
   "execution_count": 1,
   "metadata": {
    "collapsed": true
   },
   "outputs": [],
   "source": [
    "from robobrowser import RoboBrowser\n",
    "\n",
    "class NaverLogin:\n",
    "    naver_login_url = 'https://nid.naver.com/nidlogin.login'\n",
    "\n",
    "    def __init__(self, _id, _passwd):\n",
    "        self._id = _id\n",
    "        self._passwd = _passwd\n",
    "\n",
    "    def get_cookie(self):\n",
    "        browser = RoboBrowser(history=True, parser='html.parser')\n",
    "        browser.open(self.naver_login_url)\n",
    "        form = browser.get_form()\n",
    "        form['id'].value = self._id\n",
    "        form['pw'].value = self._passwd\n",
    "        browser.session.headers['Referer'] = self.naver_login_url\n",
    "        browser.submit_form(form)\n",
    "        return dict(browser.session.cookies)"
   ]
  },
  {
   "cell_type": "code",
   "execution_count": 2,
   "metadata": {},
   "outputs": [],
   "source": [
    "import json\n",
    "\n",
    "# 보안을 위해(저의 계정이기 때문에..) 실제 파일은 없습니다.\n",
    "try:\n",
    "    with open('.naverLogin') as fp:\n",
    "        login_info = json.load(fp)    \n",
    "    nid = login_info.get('nid')\n",
    "    npwd = login_info.get('npwd')\n",
    "except FileNotFoundError:\n",
    "    nid = \"님들의 진짜 네이버 아이디를 넣어주세요\"\n",
    "    npwd = \"님들의 진짜 네이버 패스워드를 넣어주세요\"\n",
    "    \n",
    "# 실제로 로그인하고 쿠키 획득\n",
    "cookies = NaverLogin(nid, npwd).get_cookie()"
   ]
  },
  {
   "cell_type": "code",
   "execution_count": 3,
   "metadata": {
    "collapsed": true
   },
   "outputs": [],
   "source": [
    "import requests\n",
    "\n",
    "url = 'http://cafe.naver.com/ArticleRead.nhn?clubid=10605292&page=1&menuid=327&boardtype=L&articleid=990580&referrerAllArticles=false&clubid=10605292'\n",
    "\n",
    "# 쿠키와 함께 요청\n",
    "r = requests.get(url, cookies=cookies)"
   ]
  },
  {
   "cell_type": "code",
   "execution_count": 4,
   "metadata": {},
   "outputs": [
    {
     "data": {
      "text/plain": [
       "'본문에 나는 많은 jeans 를 가지고있었다.라고 되어있엇고..질문에 how many jeans did he have ..가 나왔는데이건대답할수있는건가요 없는건가요?너무 궁금하네요.어떤중학교에서 본문에 about 4 millilon badies die 이랬는데얼마나 많은 아기가 죽었냐 할때 대답할수없다고 시험문제나왔었꺼든요..\\xa0여러분의의견이궁금합니다'"
      ]
     },
     "execution_count": 4,
     "metadata": {},
     "output_type": "execute_result"
    }
   ],
   "source": [
    "from bs4 import BeautifulSoup\n",
    "\n",
    "soup = BeautifulSoup(r.text, 'html.parser')\n",
    "\n",
    "soup.find('div', id='tbody').text.strip()"
   ]
  }
 ],
 "metadata": {
  "kernelspec": {
   "display_name": "Python 3",
   "language": "python",
   "name": "python3"
  },
  "language_info": {
   "codemirror_mode": {
    "name": "ipython",
    "version": 3
   },
   "file_extension": ".py",
   "mimetype": "text/x-python",
   "name": "python",
   "nbconvert_exporter": "python",
   "pygments_lexer": "ipython3",
   "version": "3.5.1"
  }
 },
 "nbformat": 4,
 "nbformat_minor": 2
}
